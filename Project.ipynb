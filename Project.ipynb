{
 "cells": [
  {
   "cell_type": "markdown",
   "metadata": {},
   "source": [
    "## Modelling real world problems experiments ##"
   ]
  },
  {
   "cell_type": "code",
   "execution_count": 122,
   "metadata": {},
   "outputs": [],
   "source": [
    "import networkx as nx\n",
    "import pandas\n",
    "import matplotlib as mpt\n",
    "import random\n",
    "import numpy as np"
   ]
  },
  {
   "cell_type": "code",
   "execution_count": 123,
   "metadata": {},
   "outputs": [
    {
     "name": "stdout",
     "output_type": "stream",
     "text": [
      "<bound method NDFrame.head of           1  1.1  390  17\n",
      "0         1    2  215   9\n",
      "1         1    2  246  18\n",
      "2         1    2  265  45\n",
      "3         1    5  367  32\n",
      "4         1    5  430  17\n",
      "...     ...  ...  ...  ..\n",
      "102825  576  381  382  18\n",
      "102826  576  389  449  48\n",
      "102827  576  404  431   0\n",
      "102828  576  426  442   1\n",
      "102829  576  428  447  27\n",
      "\n",
      "[102830 rows x 4 columns]>\n",
      "<bound method NDFrame.head of        1  Thu 12 Oct 2017 07:00:00\n",
      "0      2  Thu 12 Oct 2017 07:05:00\n",
      "1      3  Thu 12 Oct 2017 07:10:00\n",
      "2      4  Thu 12 Oct 2017 07:15:00\n",
      "3      5  Thu 12 Oct 2017 07:20:00\n",
      "4      6  Thu 12 Oct 2017 07:25:00\n",
      "..   ...                       ...\n",
      "570  572  Sat 14 Oct 2017 22:35:00\n",
      "571  573  Sat 14 Oct 2017 22:40:00\n",
      "572  574  Sat 14 Oct 2017 22:45:00\n",
      "573  575  Sat 14 Oct 2017 22:50:00\n",
      "574  576  Sat 14 Oct 2017 22:55:00\n",
      "\n",
      "[575 rows x 2 columns]>\n"
     ]
    }
   ],
   "source": [
    "df_kissler1 = pandas.read_csv(\"Kissler_DataS1.csv\")\n",
    "df_kissler2 = pandas.read_csv(\"Kissler_DataS2.csv\")\n",
    "\n",
    "#all transported to a list\n",
    "r = df_kissler1.iloc[:,0].to_list() #time\n",
    "r2 = df_kissler1.iloc[:,1].to_list() #person 1\n",
    "r3 = df_kissler1.iloc[:,2].to_list() #person 2\n",
    "r4 = df_kissler1.iloc[:,3].to_list() #meters\n",
    "print(df_kissler1.head)\n",
    "print(df_kissler2.head)"
   ]
  },
  {
   "cell_type": "code",
   "execution_count": 124,
   "metadata": {},
   "outputs": [],
   "source": [
    "random_lst = []\n",
    "while len(random_lst) != 5:\n",
    "    rand = random.randint(1,469)\n",
    "    if rand not in random_lst:\n",
    "        random_lst.append(rand)\n",
    "\n",
    "\n",
    "        \n",
    "random_lst2 = []\n",
    "#random vaccination list. It is possible to vaccinate someone who is sick\n",
    "while len(random_lst2) != 5:\n",
    "    rand2 = random.randint(1,469)\n",
    "    if rand2 not in random_lst2:\n",
    "        random_lst2.append(rand2)"
   ]
  },
  {
   "cell_type": "markdown",
   "metadata": {},
   "source": [
    "Below the random vaccination strategy is shown. At the end 42 people were sick with a sickness transmission probability 1 since that allows for better comparison between the models. Amount of node 469. and 576 timesteps. If the persons were within 10 meters of eachother the possiblity of getting sick was there. "
   ]
  },
  {
   "cell_type": "code",
   "execution_count": 125,
   "metadata": {},
   "outputs": [
    {
     "name": "stdout",
     "output_type": "stream",
     "text": [
      "[206, 282, 149, 410, 392]\n",
      "[31, 114, 267, 275, 185]\n",
      "{1: [0, 0], 2: [0, 0], 3: [0, 0], 4: [0, 0], 5: [0, 0], 6: [0, 0], 7: [0, 0], 8: [0, 0], 9: [0, 0], 10: [0, 0], 11: [0, 0], 12: [0, 0], 13: [0, 0], 14: [0, 0], 15: [0, 0], 16: [0, 0], 17: [0, 0], 18: [0, 0], 19: [0, 0], 20: [0, 0], 21: [0, 0], 22: [0, 0], 23: [0, 0], 24: [0, 0], 25: [0, 0], 26: [0, 0], 27: [0, 0], 28: [0, 0], 29: [0, 0], 30: [0, 0], 31: [2, 0], 32: [0, 0], 33: [0, 0], 34: [0, 0], 35: [0, 0], 36: [0, 0], 37: [0, 0], 38: [0, 0], 39: [0, 0], 40: [0, 0], 41: [0, 0], 42: [0, 0], 43: [0, 0], 44: [0, 0], 45: [0, 0], 46: [0, 0], 47: [0, 0], 48: [0, 0], 49: [0, 0], 50: [0, 0], 51: [0, 0], 52: [0, 0], 53: [0, 0], 54: [0, 0], 55: [0, 0], 56: [0, 0], 57: [0, 0], 58: [0, 0], 59: [0, 0], 60: [0, 0], 61: [0, 0], 62: [0, 0], 63: [0, 0], 64: [0, 0], 65: [0, 0], 66: [0, 0], 67: [0, 0], 68: [0, 0], 69: [0, 0], 70: [0, 0], 71: [0, 0], 72: [0, 0], 73: [0, 0], 74: [0, 0], 75: [0, 0], 76: [0, 0], 77: [0, 0], 78: [0, 0], 79: [0, 0], 80: [0, 0], 81: [0, 0], 82: [0, 0], 83: [0, 0], 84: [0, 0], 85: [0, 0], 86: [0, 0], 87: [0, 0], 88: [0, 0], 89: [0, 0], 90: [0, 0], 91: [0, 0], 92: [0, 0], 93: [0, 0], 94: [0, 0], 95: [0, 0], 96: [0, 0], 97: [0, 0], 98: [0, 0], 99: [0, 0], 100: [0, 0], 101: [0, 0], 102: [0, 0], 103: [0, 0], 104: [0, 0], 105: [0, 0], 106: [0, 0], 107: [0, 0], 108: [0, 0], 109: [0, 0], 110: [0, 0], 111: [0, 0], 112: [0, 0], 113: [0, 0], 114: [2, 0], 115: [0, 0], 116: [0, 0], 117: [0, 0], 118: [0, 0], 119: [0, 0], 120: [0, 0], 121: [0, 0], 122: [0, 0], 123: [0, 0], 124: [0, 0], 125: [0, 0], 126: [0, 0], 127: [0, 0], 128: [0, 0], 129: [0, 0], 130: [0, 0], 131: [0, 0], 132: [0, 0], 133: [0, 0], 134: [0, 0], 135: [0, 0], 136: [0, 0], 137: [0, 0], 138: [0, 0], 139: [0, 0], 140: [0, 0], 141: [0, 0], 142: [0, 0], 143: [0, 0], 144: [0, 0], 145: [0, 0], 146: [0, 0], 147: [0, 0], 148: [0, 0], 149: [1, 0], 150: [0, 0], 151: [0, 0], 152: [0, 0], 153: [0, 0], 154: [0, 0], 155: [0, 0], 156: [0, 0], 157: [0, 0], 158: [0, 0], 159: [0, 0], 160: [0, 0], 161: [0, 0], 162: [0, 0], 163: [0, 0], 164: [0, 0], 165: [0, 0], 166: [0, 0], 167: [0, 0], 168: [0, 0], 169: [0, 0], 170: [0, 0], 171: [0, 0], 172: [0, 0], 173: [0, 0], 174: [0, 0], 175: [0, 0], 176: [0, 0], 177: [0, 0], 178: [0, 0], 179: [0, 0], 180: [0, 0], 181: [0, 0], 182: [0, 0], 183: [0, 0], 184: [0, 0], 185: [2, 0], 186: [0, 0], 187: [0, 0], 188: [0, 0], 189: [0, 0], 190: [0, 0], 191: [0, 0], 192: [0, 0], 193: [0, 0], 194: [0, 0], 195: [0, 0], 196: [0, 0], 197: [0, 0], 198: [0, 0], 199: [0, 0], 200: [0, 0], 201: [0, 0], 202: [0, 0], 203: [0, 0], 204: [0, 0], 205: [0, 0], 206: [1, 0], 207: [0, 0], 208: [0, 0], 209: [0, 0], 210: [0, 0], 211: [0, 0], 212: [0, 0], 213: [0, 0], 214: [0, 0], 215: [0, 0], 216: [0, 0], 217: [0, 0], 218: [0, 0], 219: [0, 0], 220: [0, 0], 221: [0, 0], 222: [0, 0], 223: [0, 0], 224: [0, 0], 225: [0, 0], 226: [0, 0], 227: [0, 0], 228: [0, 0], 229: [0, 0], 230: [0, 0], 231: [0, 0], 232: [0, 0], 233: [0, 0], 234: [0, 0], 235: [0, 0], 236: [0, 0], 237: [0, 0], 238: [0, 0], 239: [0, 0], 240: [0, 0], 241: [0, 0], 242: [0, 0], 243: [0, 0], 244: [0, 0], 245: [0, 0], 246: [0, 0], 247: [0, 0], 248: [0, 0], 249: [0, 0], 250: [0, 0], 251: [0, 0], 252: [0, 0], 253: [0, 0], 254: [0, 0], 255: [0, 0], 256: [0, 0], 257: [0, 0], 258: [0, 0], 259: [0, 0], 260: [0, 0], 261: [0, 0], 262: [0, 0], 263: [0, 0], 264: [0, 0], 265: [0, 0], 266: [0, 0], 267: [2, 0], 268: [0, 0], 269: [0, 0], 270: [0, 0], 271: [0, 0], 272: [0, 0], 273: [0, 0], 274: [0, 0], 275: [2, 0], 276: [0, 0], 277: [0, 0], 278: [0, 0], 279: [0, 0], 280: [0, 0], 281: [0, 0], 282: [1, 0], 283: [0, 0], 284: [0, 0], 285: [0, 0], 286: [0, 0], 287: [0, 0], 288: [0, 0], 289: [0, 0], 290: [0, 0], 291: [0, 0], 292: [0, 0], 293: [0, 0], 294: [0, 0], 295: [0, 0], 296: [0, 0], 297: [0, 0], 298: [0, 0], 299: [0, 0], 300: [0, 0], 301: [0, 0], 302: [0, 0], 303: [0, 0], 304: [0, 0], 305: [0, 0], 306: [0, 0], 307: [0, 0], 308: [0, 0], 309: [0, 0], 310: [0, 0], 311: [0, 0], 312: [0, 0], 313: [0, 0], 314: [0, 0], 315: [0, 0], 316: [0, 0], 317: [0, 0], 318: [0, 0], 319: [0, 0], 320: [0, 0], 321: [0, 0], 322: [0, 0], 323: [0, 0], 324: [0, 0], 325: [0, 0], 326: [0, 0], 327: [0, 0], 328: [0, 0], 329: [0, 0], 330: [0, 0], 331: [0, 0], 332: [0, 0], 333: [0, 0], 334: [0, 0], 335: [0, 0], 336: [0, 0], 337: [0, 0], 338: [0, 0], 339: [0, 0], 340: [0, 0], 341: [0, 0], 342: [0, 0], 343: [0, 0], 344: [0, 0], 345: [0, 0], 346: [0, 0], 347: [0, 0], 348: [0, 0], 349: [0, 0], 350: [0, 0], 351: [0, 0], 352: [0, 0], 353: [0, 0], 354: [0, 0], 355: [0, 0], 356: [0, 0], 357: [0, 0], 358: [0, 0], 359: [0, 0], 360: [0, 0], 361: [0, 0], 362: [0, 0], 363: [0, 0], 364: [0, 0], 365: [0, 0], 366: [0, 0], 367: [0, 0], 368: [0, 0], 369: [0, 0], 370: [0, 0], 371: [0, 0], 372: [0, 0], 373: [0, 0], 374: [0, 0], 375: [0, 0], 376: [0, 0], 377: [0, 0], 378: [0, 0], 379: [0, 0], 380: [0, 0], 381: [0, 0], 382: [0, 0], 383: [0, 0], 384: [0, 0], 385: [0, 0], 386: [0, 0], 387: [0, 0], 388: [0, 0], 389: [0, 0], 390: [0, 0], 391: [0, 0], 392: [1, 0], 393: [0, 0], 394: [0, 0], 395: [0, 0], 396: [0, 0], 397: [0, 0], 398: [0, 0], 399: [0, 0], 400: [0, 0], 401: [0, 0], 402: [0, 0], 403: [0, 0], 404: [0, 0], 405: [0, 0], 406: [0, 0], 407: [0, 0], 408: [0, 0], 409: [0, 0], 410: [1, 0], 411: [0, 0], 412: [0, 0], 413: [0, 0], 414: [0, 0], 415: [0, 0], 416: [0, 0], 417: [0, 0], 418: [0, 0], 419: [0, 0], 420: [0, 0], 421: [0, 0], 422: [0, 0], 423: [0, 0], 424: [0, 0], 425: [0, 0], 426: [0, 0], 427: [0, 0], 428: [0, 0], 429: [0, 0], 430: [0, 0], 431: [0, 0], 432: [0, 0], 433: [0, 0], 434: [0, 0], 435: [0, 0], 436: [0, 0], 437: [0, 0], 438: [0, 0], 439: [0, 0], 440: [0, 0], 441: [0, 0], 442: [0, 0], 443: [0, 0], 444: [0, 0], 445: [0, 0], 446: [0, 0], 447: [0, 0], 448: [0, 0], 449: [0, 0], 450: [0, 0], 451: [0, 0], 452: [0, 0], 453: [0, 0], 454: [0, 0], 455: [0, 0], 456: [0, 0], 457: [0, 0], 458: [0, 0], 459: [0, 0], 460: [0, 0], 461: [0, 0], 462: [0, 0], 463: [0, 0], 464: [0, 0], 465: [0, 0], 466: [0, 0], 467: [0, 0], 468: [0, 0], 469: [0, 0]}\n",
      "[1, 2, 3, 4, 5, 6, 7, 8, 9, 10, 11, 12, 13, 14, 15, 16, 17, 18, 19, 20, 21, 22, 23, 24, 25, 26, 27, 28, 29, 30, 31, 32, 33, 34, 35, 36, 37, 38, 39, 40, 41, 42, 43, 44, 45, 46, 47, 48, 49, 50, 51, 52, 53, 54, 55, 56, 57, 58, 59, 60, 61, 62, 63, 64, 65, 66, 67, 68, 69, 70, 71, 72, 73, 74, 75, 76, 77, 78, 79, 80, 81, 82, 83, 84, 85, 86, 87, 88, 89, 90, 91, 92, 93, 94, 95, 96, 97, 98, 99, 100, 101, 102, 103, 104, 105, 106, 107, 108, 109, 110, 111, 112, 113, 114, 115, 116, 117, 118, 119, 120, 121, 122, 123, 124, 125, 126, 127, 128, 129, 130, 131, 132, 133, 134, 135, 136, 137, 138, 139, 140, 141, 142, 143, 144, 145, 146, 147, 148, 149, 150, 151, 152, 153, 154, 155, 156, 157, 158, 159, 160, 161, 162, 163, 164, 165, 166, 167, 168, 169, 170, 171, 172, 173, 174, 175, 176, 177, 178, 179, 180, 181, 182, 183, 184, 185, 186, 187, 188, 189, 190, 191, 192, 193, 194, 195, 196, 197, 198, 199, 200, 201, 202, 203, 204, 205, 206, 207, 208, 209, 210, 211, 212, 213, 214, 215, 216, 217, 218, 219, 220, 221, 222, 223, 224, 225, 226, 227, 228, 229, 230, 231, 232, 233, 234, 235, 236, 237, 238, 239, 240, 241, 242, 243, 244, 245, 246, 247, 248, 249, 250, 251, 252, 253, 254, 255, 256, 257, 258, 259, 260, 261, 262, 263, 264, 265, 266, 267, 268, 269, 270, 271, 272, 273, 274, 275, 276, 277, 278, 279, 280, 281, 282, 283, 284, 285, 286, 287, 288, 289, 290, 291, 292, 293, 294, 295, 296, 297, 298, 299, 300, 301, 302, 303, 304, 305, 306, 307, 308, 309, 310, 311, 312, 313, 314, 315, 316, 317, 318, 319, 320, 321, 322, 323, 324, 325, 326, 327, 328, 329, 330, 331, 332, 333, 334, 335, 336, 337, 338, 339, 340, 341, 342, 343, 344, 345, 346, 347, 348, 349, 350, 351, 352, 353, 354, 355, 356, 357, 358, 359, 360, 361, 362, 363, 364, 365, 366, 367, 368, 369, 370, 371, 372, 373, 374, 375, 376, 377, 378, 379, 380, 381, 382, 383, 384, 385, 386, 387, 388, 389, 390, 391, 392, 393, 394, 395, 396, 397, 398, 399, 400, 401, 402, 403, 404, 405, 406, 407, 408, 409, 410, 411, 412, 413, 414, 415, 416, 417, 418, 419, 420, 421, 422, 423, 424, 425, 426, 427, 428, 429, 430, 431, 432, 433, 434, 435, 436, 437, 438, 439, 440, 441, 442, 443, 444, 445, 446, 447, 448, 449, 450, 451, 452, 453, 454, 455, 456, 457, 458, 459, 460, 461, 462, 463, 464, 465, 466, 467, 468, 469, 470, 471, 472, 473, 474, 475, 476, 477, 478, 479, 480, 481, 482, 483, 484, 485, 486, 487, 488, 489, 490, 491, 492, 493, 494, 495, 496, 497, 498, 499, 500, 501, 502, 503, 504, 505, 506, 507, 508, 509, 510, 511, 512, 513, 514, 515, 516, 517, 518, 519, 520, 521, 522, 523, 524, 525, 526, 527, 528, 529, 530, 531, 532, 533, 534, 535, 536, 537, 538, 539, 540, 541, 542, 543, 544, 545, 546, 547, 548, 549, 550, 551, 552, 553, 554, 555, 556, 557, 558, 559, 560, 561, 562, 563, 564, 565, 566, 567, 568, 569, 570, 571, 572, 573, 574, 575, 576]\n",
      "[0, 260, 512, 763, 1008, 1252, 1506, 1758, 2001, 2255, 2507, 2758, 3004, 3248, 3491, 3734, 3973, 4189, 4400, 4617, 4823, 5030, 5221, 5395, 5563, 5729, 5885, 6035, 6192, 6330, 6458, 6582, 6702, 6817, 6940, 7068, 7180, 7296, 7400, 7515, 7622, 7730, 7844, 7956, 8054, 8158, 8258, 8370, 8475, 8582, 8683, 8786, 8903, 9021, 9139, 9249, 9361, 9480, 9598, 9730, 9843, 9960, 10068, 10193, 10317, 10440, 10570, 10693, 10817, 10939, 11058, 11176, 11289, 11394, 11501, 11604, 11708, 11810, 11913, 12010, 12117, 12226, 12328, 12434, 12543, 12663, 12785, 12895, 12999, 13120, 13232, 13347, 13455, 13571, 13679, 13786, 13903, 14022, 14138, 14247, 14366, 14489, 14617, 14757, 14882, 15008, 15138, 15260, 15397, 15517, 15638, 15766, 15885, 16000, 16124, 16253, 16375, 16488, 16621, 16746, 16877, 17004, 17116, 17248, 17383, 17512, 17630, 17748, 17882, 18030, 18177, 18320, 18464, 18618, 18763, 18916, 19065, 19207, 19345, 19479, 19609, 19736, 19870, 20020, 20161, 20310, 20460, 20604, 20760, 20919, 21091, 21261, 21441, 21621, 21805, 22000, 22187, 22375, 22573, 22768, 22950, 23146, 23342, 23542, 23735, 23944, 24146, 24350, 24550, 24745, 24942, 25145, 25357, 25559, 25778, 25996, 26205, 26435, 26661, 26877, 27095, 27304, 27528, 27764, 27997, 28246, 28486, 28728, 28998, 29258, 29500, 29751, 29990, 30260, 30521, 30769, 31031, 31298, 31551, 31814, 32074, 32323, 32563, 32806, 33039, 33288, 33514, 33740, 33943, 34154, 34363, 34586, 34795, 35002, 35199, 35387, 35587, 35768, 35936, 36097, 36245, 36390, 36537, 36687, 36837, 36968, 37124, 37282, 37442, 37587, 37741, 37887, 38043, 38175, 38314, 38446, 38584, 38723, 38852, 38982, 39108, 39255, 39396, 39524, 39647, 39778, 39910, 40046, 40188, 40331, 40474, 40609, 40753, 40921, 41074, 41229, 41383, 41517, 41658, 41795, 41924, 42071, 42211, 42367, 42518, 42660, 42799, 42954, 43127, 43270, 43409, 43591, 43776, 43971, 44145, 44322, 44484, 44623, 44769, 44937, 45074, 45225, 45357, 45511, 45645, 45777, 45918, 46054, 46208, 46368, 46516, 46639, 46788, 46935, 47076, 47220, 47363, 47517, 47681, 47837, 47995, 48159, 48324, 48472, 48626, 48775, 48955, 49101, 49243, 49368, 49498, 49632, 49758, 49892, 50038, 50187, 50335, 50483, 50644, 50788, 50933, 51098, 51247, 51398, 51546, 51711, 51861, 52024, 52188, 52371, 52574, 52771, 52961, 53149, 53335, 53519, 53706, 53879, 54057, 54232, 54416, 54599, 54809, 54995, 55187, 55383, 55574, 55759, 55949, 56125, 56302, 56496, 56691, 56889, 57108, 57334, 57564, 57796, 58040, 58267, 58485, 58706, 58906, 59137, 59359, 59593, 59831, 60069, 60315, 60576, 60833, 61101, 61351, 61612, 61879, 62140, 62393, 62654, 62916, 63175, 63422, 63684, 63951, 64218, 64485, 64732, 64974, 65211, 65448, 65694, 65930, 66174, 66410, 66653, 66893, 67141, 67375, 67597, 67822, 68041, 68267, 68486, 68715, 68941, 69165, 69386, 69606, 69828, 70062, 70299, 70519, 70738, 70952, 71163, 71359, 71570, 71779, 71980, 72197, 72394, 72580, 72779, 72982, 73185, 73369, 73543, 73708, 73885, 74052, 74270, 74462, 74626, 74824, 75014, 75193, 75375, 75550, 75746, 75929, 76099, 76276, 76441, 76601, 76792, 76972, 77161, 77331, 77504, 77672, 77845, 78035, 78241, 78449, 78699, 78893, 79096, 79329, 79548, 79761, 79967, 80151, 80319, 80489, 80686, 80895, 81093, 81296, 81496, 81678, 81878, 82079, 82268, 82452, 82631, 82807, 82991, 83166, 83364, 83556, 83743, 83926, 84108, 84295, 84481, 84658, 84841, 85032, 85213, 85389, 85580, 85774, 85948, 86109, 86268, 86425, 86596, 86762, 86918, 87075, 87225, 87365, 87512, 87665, 87816, 87967, 88109, 88270, 88445, 88622, 88792, 88958, 89148, 89327, 89496, 89673, 89856, 90024, 90186, 90355, 90532, 90712, 90894, 91081, 91255, 91422, 91597, 91785, 92006, 92213, 92419, 92610, 92826, 93030, 93238, 93440, 93638, 93838, 94054, 94267, 94480, 94686, 94889, 95084, 95301, 95514, 95718, 95939, 96137, 96351, 96562, 96766, 96986, 97211, 97426, 97659, 97899, 98144, 98388, 98630, 98882, 99107, 99326, 99562, 99800, 100034, 100267, 100510, 100741, 100978, 101207, 101442, 101679, 101907, 102126, 102357, 102594]\n",
      "[5, 5, 5, 5, 5, 5, 5, 5, 5, 7, 7, 9, 11, 11, 16, 17, 17, 17, 17, 17, 17, 17, 19, 19, 19, 19, 19, 19, 19, 19, 19, 19, 19, 19, 19, 19, 19, 19, 19, 19, 19, 19, 20, 23, 23, 24, 29, 31, 31, 31, 31, 31, 32, 32, 35, 40, 41, 42, 42, 59, 59, 60, 60, 61, 61, 61, 61, 62, 62, 62, 63, 63, 63, 64, 65, 65, 67, 75, 75, 76, 76, 76, 78, 79, 87, 88, 91, 91, 91, 91, 92, 94, 95, 96, 96, 96, 96, 97, 98, 98, 99, 99, 99, 99, 99, 99, 99, 100, 100, 100, 100, 100, 100, 101, 102, 103, 103, 104, 104, 104, 104, 104, 104, 104, 104, 104]\n"
     ]
    }
   ],
   "source": [
    "G=nx.Graph()\n",
    "\n",
    "#amount of nodes is 469\n",
    "\n",
    "for i in range(1,470):\n",
    "    G.add_node(i)\n",
    "\n",
    "#nx.draw_random(G)\n",
    "\n",
    "\n",
    "        \n",
    "        \n",
    "        \n",
    "#print(random_lst)\n",
    "sicknodes = random_lst\n",
    "vaccinated = random_lst2\n",
    "rest = []\n",
    "\n",
    "\n",
    "dictio = {}\n",
    "#add the state attribute the the nodes of the graph\n",
    "#the first index is whether someone is sick (1), undecided (0) or vaccinated (2) , the amount of people a person has met up with.\n",
    "#assumption, in one time interval only the first neighbours of a node can get infected. \n",
    "#each node is represented in this dictionary\n",
    "for n in G:\n",
    "    dictio[n] = [0,0]\n",
    " \n",
    "    \n",
    "    \n",
    "    \n",
    "    \n",
    "for i in sicknodes:\n",
    "    dictio[i][0] =+ 1\n",
    "    \n",
    "for i in vaccinated:\n",
    "    if dictio[i][0] == 1:\n",
    "        dictio[i][0] = dictio[i][0] + 1\n",
    "    else:\n",
    "        dictio[i][0] =+ 2\n",
    "print(sicknodes)\n",
    "print(vaccinated)\n",
    "print(dictio)   \n",
    "lst5= []\n",
    "#lst 6 is the first time it goes to a new timestep\n",
    "lst6= []\n",
    "lstwsd = []\n",
    "dummy = 0\n",
    "for i in range(len(r)): #range(len(r)):\n",
    "    #add the timesteps to a list\n",
    "    if r[i] not in lst5:\n",
    "        lst5.append(r[i])\n",
    "        lst6.append(i)\n",
    "    #if one of the nodes is vaccinated while meeting up, then nothing happens, because the node is basically out of the graph\n",
    "    if (dictio[r2[i]][0] == 2) or (dictio[r3[i]][0] == 2):\n",
    "        dummy =+ 1\n",
    "    #it needs to be less than 10 meters for the sickness to go from one person to the other\n",
    "    elif r4[i] <= 10:\n",
    "        if dictio[r2[i]][0] == 0:\n",
    "            dummy =+1 #instead of continue\n",
    "        #if one of the two is sick then the other one will get sick too with a probability of 100 percent\n",
    "        if (dictio[r2[i]][0] == 1):\n",
    "            if (dictio[r3[i]][0] == 1):\n",
    "                dummy =+1\n",
    "            if (dictio[r3[i]][0] == 0):\n",
    "                if np.random.rand() < 1:\n",
    "                    dictio[r3[i]][0] =+ 1 \n",
    "        if dictio[r3[i]][0] == 0:\n",
    "            dummy =+1\n",
    "        if (dictio[r3[i]][0] == 1):\n",
    "            if (dictio[r2[i]][0] == 1):\n",
    "                dummy =+1\n",
    "            if (dictio[r3[i]][0] == 0):\n",
    "                if np.random.rand() < 1:\n",
    "                    dictio[r2[i]][0] =+ 1\n",
    "                \n",
    "        dictio[r2[i]][1] = dictio[r2[i]][1] + 1\n",
    "        dictio[r3[i]][1] = dictio[r2[i]][1] + 1\n",
    "        \n",
    "        \n",
    "        if i-1 in lst6:\n",
    "            #this checks the dictionary over each timestep and gives the amount of sick people. \n",
    "            deg = 0\n",
    "            sick = 0\n",
    "            for k in dictio.keys():\n",
    "                if dictio[k][0] == 1:\n",
    "                    sick = sick + 1\n",
    "                #deg = deg + dictio[k][1]\n",
    "            #-5 since the vaccinated individuals are out of the graph\n",
    "            #avg_deg = deg/2  / (469-5)\n",
    "            if len(lstwsd) == 0:\n",
    "                lstwsd.append(sick)\n",
    "            else:\n",
    "                #deg2 = deg/2 - lstwsd[-1][1]\n",
    "                lstwsd.append(sick)\n",
    "        \n",
    "#with random vaccination above\n",
    "#print(dictio)\n",
    "#print(r3[260])\n",
    "print(lst5)\n",
    "\n",
    "print(lst6)\n",
    "\n",
    "print(lstwsd)"
   ]
  },
  {
   "cell_type": "markdown",
   "metadata": {},
   "source": [
    "Targeted vaccination: If a person has 10 contacts he will be vaccinated till all 5 vaccinations are given out. "
   ]
  },
  {
   "cell_type": "code",
   "execution_count": 126,
   "metadata": {},
   "outputs": [
    {
     "name": "stdout",
     "output_type": "stream",
     "text": [
      "[206, 282, 149, 410, 392]\n",
      "{1: [0, 192], 2: [0, 103], 3: [0, 82], 4: [0, 181], 5: [0, 6], 6: [0, 23], 7: [0, 16], 8: [0, 290], 9: [0, 2], 10: [0, 291], 11: [0, 20], 12: [0, 294], 13: [0, 52], 14: [0, 321], 15: [0, 99], 16: [0, 93], 17: [0, 11], 18: [0, 8], 19: [0, 109], 20: [0, 12], 21: [0, 104], 22: [0, 20], 23: [0, 95], 24: [0, 8], 25: [0, 69], 26: [0, 413], 27: [0, 4], 28: [0, 10], 29: [0, 85], 30: [0, 394], 31: [0, 48], 32: [0, 583], 33: [0, 6], 34: [0, 57], 35: [0, 397], 36: [0, 103], 37: [0, 0], 38: [0, 96], 39: [0, 12], 40: [0, 2], 41: [0, 9], 42: [0, 10], 43: [0, 55], 44: [0, 61], 45: [0, 9], 46: [0, 255], 47: [0, 112], 48: [2, 100], 49: [0, 242], 50: [0, 18], 51: [0, 0], 52: [0, 249], 53: [0, 1], 54: [0, 7], 55: [0, 0], 56: [0, 10], 57: [0, 61], 58: [0, 400], 59: [0, 3], 60: [0, 414], 61: [0, 143], 62: [0, 0], 63: [0, 8], 64: [0, 29], 65: [0, 166], 66: [0, 160], 67: [0, 3], 68: [0, 55], 69: [0, 5], 70: [0, 0], 71: [0, 0], 72: [0, 223], 73: [0, 224], 74: [0, 146], 75: [0, 465], 76: [0, 115], 77: [0, 10], 78: [0, 417], 79: [0, 7], 80: [0, 149], 81: [0, 6], 82: [0, 101], 83: [0, 257], 84: [0, 88], 85: [0, 6], 86: [0, 409], 87: [0, 145], 88: [0, 470], 89: [0, 68], 90: [0, 233], 91: [0, 16], 92: [0, 324], 93: [0, 325], 94: [0, 49], 95: [0, 191], 96: [0, 37], 97: [0, 239], 98: [0, 91], 99: [0, 411], 100: [0, 72], 101: [0, 66], 102: [0, 412], 103: [0, 1], 104: [0, 187], 105: [0, 14], 106: [0, 192], 107: [0, 193], 108: [0, 271], 109: [0, 316], 110: [0, 21], 111: [0, 430], 112: [0, 11], 113: [0, 0], 114: [0, 16], 115: [0, 12], 116: [0, 2], 117: [0, 4], 118: [0, 419], 119: [0, 38], 120: [0, 14], 121: [0, 7], 122: [0, 108], 123: [0, 413], 124: [0, 293], 125: [0, 1], 126: [0, 124], 127: [0, 410], 128: [0, 98], 129: [0, 420], 130: [0, 41], 131: [0, 17], 132: [0, 391], 133: [0, 235], 134: [0, 7], 135: [0, 9], 136: [0, 306], 137: [0, 9], 138: [0, 142], 139: [0, 20], 140: [0, 4], 141: [0, 109], 142: [0, 471], 143: [0, 2], 144: [0, 54], 145: [0, 13], 146: [0, 11], 147: [0, 137], 148: [0, 234], 149: [1, 74], 150: [0, 4], 151: [0, 1], 152: [0, 0], 153: [0, 9], 154: [0, 5], 155: [0, 92], 156: [0, 13], 157: [0, 88], 158: [0, 17], 159: [0, 472], 160: [0, 14], 161: [0, 397], 162: [0, 18], 163: [0, 258], 164: [0, 47], 165: [0, 85], 166: [0, 75], 167: [0, 24], 168: [0, 15], 169: [1, 56], 170: [0, 234], 171: [0, 9], 172: [1, 117], 173: [1, 62], 174: [0, 13], 175: [0, 141], 176: [0, 388], 177: [1, 118], 178: [0, 58], 179: [0, 158], 180: [0, 584], 181: [0, 583], 182: [0, 360], 183: [0, 466], 184: [1, 97], 185: [0, 180], 186: [0, 56], 187: [0, 189], 188: [0, 305], 189: [0, 584], 190: [0, 410], 191: [0, 246], 192: [0, 125], 193: [0, 126], 194: [0, 0], 195: [0, 582], 196: [0, 182], 197: [0, 142], 198: [1, 395], 199: [1, 396], 200: [1, 365], 201: [1, 146], 202: [0, 350], 203: [0, 1], 204: [0, 378], 205: [0, 236], 206: [1, 90], 207: [0, 1], 208: [0, 251], 209: [0, 4], 210: [0, 5], 211: [0, 189], 212: [0, 2], 213: [0, 11], 214: [0, 21], 215: [0, 265], 216: [0, 104], 217: [0, 278], 218: [0, 170], 219: [0, 0], 220: [0, 404], 221: [0, 15], 222: [0, 3], 223: [0, 175], 224: [0, 395], 225: [0, 111], 226: [0, 137], 227: [0, 89], 228: [0, 279], 229: [1, 230], 230: [0, 317], 231: [0, 0], 232: [0, 120], 233: [1, 138], 234: [0, 82], 235: [0, 159], 236: [0, 223], 237: [0, 102], 238: [2, 100], 239: [0, 104], 240: [0, 73], 241: [0, 14], 242: [0, 249], 243: [0, 155], 244: [0, 9], 245: [1, 150], 246: [0, 97], 247: [0, 1], 248: [0, 6], 249: [0, 62], 250: [0, 226], 251: [1, 49], 252: [0, 0], 253: [0, 398], 254: [0, 0], 255: [0, 414], 256: [0, 18], 257: [0, 8], 258: [0, 0], 259: [1, 183], 260: [0, 105], 261: [0, 170], 262: [0, 147], 263: [1, 244], 264: [0, 297], 265: [0, 253], 266: [0, 11], 267: [0, 155], 268: [0, 26], 269: [0, 112], 270: [0, 48], 271: [1, 11], 272: [0, 6], 273: [0, 4], 274: [1, 184], 275: [1, 147], 276: [0, 261], 277: [0, 178], 278: [0, 0], 279: [0, 177], 280: [0, 27], 281: [0, 171], 282: [1, 0], 283: [0, 280], 284: [0, 6], 285: [0, 213], 286: [0, 181], 287: [0, 407], 288: [0, 17], 289: [0, 150], 290: [0, 178], 291: [1, 113], 292: [0, 38], 293: [0, 191], 294: [0, 103], 295: [1, 245], 296: [0, 306], 297: [0, 6], 298: [0, 7], 299: [0, 95], 300: [1, 14], 301: [0, 105], 302: [0, 421], 303: [0, 5], 304: [0, 301], 305: [0, 71], 306: [0, 46], 307: [0, 351], 308: [0, 171], 309: [1, 92], 310: [1, 93], 311: [1, 182], 312: [0, 19], 313: [0, 33], 314: [0, 0], 315: [0, 30], 316: [1, 100], 317: [0, 0], 318: [2, 100], 319: [0, 248], 320: [0, 213], 321: [0, 45], 322: [1, 249], 323: [0, 156], 324: [0, 188], 325: [0, 315], 326: [0, 3], 327: [0, 235], 328: [1, 88], 329: [0, 3], 330: [0, 252], 331: [0, 0], 332: [2, 101], 333: [1, 99], 334: [0, 16], 335: [0, 255], 336: [0, 227], 337: [1, 228], 338: [1, 16], 339: [1, 84], 340: [0, 78], 341: [1, 79], 342: [1, 295], 343: [1, 302], 344: [0, 3], 345: [1, 136], 346: [0, 47], 347: [1, 121], 348: [1, 59], 349: [1, 140], 350: [0, 93], 351: [0, 5], 352: [0, 42], 353: [0, 0], 354: [0, 290], 355: [0, 273], 356: [0, 80], 357: [1, 307], 358: [0, 1], 359: [0, 0], 360: [0, 221], 361: [0, 256], 362: [0, 182], 363: [1, 243], 364: [0, 272], 365: [0, 0], 366: [0, 291], 367: [0, 324], 368: [0, 24], 369: [0, 145], 370: [0, 165], 371: [2, 100], 372: [1, 15], 373: [0, 228], 374: [0, 132], 375: [1, 266], 376: [0, 12], 377: [0, 11], 378: [0, 585], 379: [0, 24], 380: [0, 259], 381: [1, 41], 382: [1, 42], 383: [0, 207], 384: [1, 254], 385: [0, 9], 386: [0, 396], 387: [1, 102], 388: [0, 411], 389: [0, 83], 390: [0, 193], 391: [1, 10], 392: [1, 411], 393: [1, 157], 394: [0, 0], 395: [0, 3], 396: [1, 250], 397: [1, 75], 398: [1, 17], 399: [1, 68], 400: [1, 28], 401: [1, 249], 402: [0, 8], 403: [1, 110], 404: [1, 69], 405: [0, 3], 406: [0, 110], 407: [0, 12], 408: [1, 250], 409: [0, 50], 410: [1, 6], 411: [1, 13], 412: [0, 21], 413: [0, 0], 414: [1, 17], 415: [1, 137], 416: [0, 23], 417: [0, 57], 418: [0, 14], 419: [0, 7], 420: [0, 183], 421: [1, 167], 422: [0, 4], 423: [0, 76], 424: [0, 6], 425: [0, 31], 426: [1, 112], 427: [0, 62], 428: [0, 24], 429: [0, 3], 430: [0, 325], 431: [1, 70], 432: [0, 65], 433: [0, 19], 434: [0, 6], 435: [0, 2], 436: [0, 2], 437: [0, 124], 438: [1, 67], 439: [1, 16], 440: [0, 6], 441: [1, 87], 442: [1, 113], 443: [1, 4], 444: [1, 89], 445: [0, 262], 446: [0, 110], 447: [0, 25], 448: [1, 12], 449: [1, 200], 450: [1, 256], 451: [0, 25], 452: [0, 97], 453: [1, 185], 454: [1, 14], 455: [1, 96], 456: [1, 250], 457: [1, 106], 458: [0, 0], 459: [1, 63], 460: [0, 316], 461: [1, 161], 462: [0, 221], 463: [1, 9], 464: [1, 28], 465: [1, 262], 466: [0, 0], 467: [1, 303], 468: [0, 166], 469: [0, 113]}\n",
      "[318, 48, 332, 371, 238]\n",
      "[5, 5, 5, 5, 5, 5, 5, 5, 5, 7, 7, 9, 11, 11, 14, 15, 15, 15, 15, 15, 15, 15, 17, 17, 17, 17, 17, 17, 17, 17, 17, 17, 17, 17, 17, 17, 17, 17, 17, 17, 17, 17, 18, 21, 21, 22, 26, 28, 28, 28, 28, 28, 29, 29, 32, 36, 37, 37, 37, 50, 50, 51, 51, 52, 52, 52, 52, 53, 53, 53, 54, 54, 54, 55, 55, 55, 57, 64, 64, 65, 65, 65, 66, 66, 72, 72, 74, 74, 74, 74, 75, 77, 78, 78, 78, 78, 78, 78, 79, 79, 80, 80, 80, 80, 80, 80, 81, 83, 84, 84, 84, 84, 84, 85, 86, 87, 87, 88, 88, 88, 88, 88, 88, 88, 88, 88]\n"
     ]
    }
   ],
   "source": [
    "dictio2 = {}\n",
    "#add the state attribute the the nodes of the graph\n",
    "#the first index is whether someone is sick (1), undecided (0) or vaccinated (2) , the amount of people a person has met up with.\n",
    "#assumption, in one time interval only the first neighbours of a node can get infected. \n",
    "#each node is represented in this dictionary\n",
    "for n in G:\n",
    "    dictio2[n] = [0,0]\n",
    " \n",
    "    \n",
    "    \n",
    "#the same five people are sick    \n",
    "    \n",
    "for i in sicknodes:\n",
    "    dictio2[i][0] =+ 1\n",
    "    \n",
    "print(sicknodes)   \n",
    "lst5_2= []\n",
    "#lst 6 is the first time it goes to a new timestep\n",
    "lst6_2= []\n",
    "lstwsd_2 = []\n",
    "lst11=[]\n",
    "dummy2 = 0\n",
    "counts_vacc = 5\n",
    "for i in range(len(r)): #range(len(r)):\n",
    "    #add the timesteps to a list\n",
    "    if r[i] not in lst5_2:\n",
    "        lst5_2.append(r[i])\n",
    "        lst6_2.append(i)\n",
    "    #new vaccination strategy where a person with the first 100 contacts will be vaccinated\n",
    "    if counts_vacc != 0:\n",
    "        for k in dictio2.keys():\n",
    "            if dictio2[k][1] >= 100 and counts_vacc != 0 and k not in lst11:\n",
    "                lst11.append(k)\n",
    "                counts_vacc = counts_vacc - 1\n",
    "                \n",
    "                if dictio2[k][0] == 0:\n",
    "                       dictio2[k][0] = dictio2[k][0] + 2\n",
    "                if dictio2[k][0] == 1:\n",
    "                       dictio2[k][0] = dictio2[k][0] + 1\n",
    "    #if one of the nodes is vaccinated while meeting up, then nothing happens, because the node is basically out of the graph\n",
    "    if (dictio2[r2[i]][0] == 2) or (dictio2[r3[i]][0] == 2):\n",
    "        dummy2 =+ 1\n",
    "    #it needs to be less than 10 meters for the sickness to go from one person to the other\n",
    "    elif r4[i] <= 10:\n",
    "        if dictio2[r2[i]][0] == 0:\n",
    "            dummy2 =+1 #instead of continue\n",
    "        #if one of the two is sick then the other one will get sick too with a probability of 100 percent\n",
    "        if (dictio2[r2[i]][0] == 1):\n",
    "            if (dictio2[r3[i]][0] == 1):\n",
    "                dummy2 =+1\n",
    "            if (dictio2[r3[i]][0] == 0):\n",
    "                if np.random.rand() < 1:\n",
    "                    dictio2[r3[i]][0] =+ 1 \n",
    "        if dictio2[r3[i]][0] == 0:\n",
    "            dummy2 =+1\n",
    "        if (dictio2[r3[i]][0] == 1):\n",
    "            if (dictio2[r2[i]][0] == 1):\n",
    "                dummy2 =+1\n",
    "            if (dictio2[r3[i]][0] == 0):\n",
    "                if np.random.rand() < 1:\n",
    "                    dictio2[r2[i]][0] =+ 1\n",
    "                \n",
    "        dictio2[r2[i]][1] = dictio2[r2[i]][1] + 1\n",
    "        dictio2[r3[i]][1] = dictio2[r2[i]][1] + 1\n",
    "        \n",
    "        \n",
    "        if i-1 in lst6_2:\n",
    "            #this checks the dictionary over each timestep and gives the amount of sick people. \n",
    "            #deg = 0\n",
    "            sick_2 = 0\n",
    "            for k in dictio2.keys():\n",
    "                if dictio2[k][0] == 1:\n",
    "                    sick_2 = sick_2 + 1\n",
    "                #deg = deg + dictio[k][1]\n",
    "            #-5 since the vaccinated individuals are out of the graph\n",
    "            #avg_deg = deg/2  / (469-5)\n",
    "            if len(lstwsd_2) == 0:\n",
    "                lstwsd_2.append(sick_2)\n",
    "            else:\n",
    "                #deg2 = deg/2 - lstwsd[-1][1]\n",
    "                lstwsd_2.append(sick_2)\n",
    "        \n",
    "#with random vaccination above\n",
    "print(dictio2) # a dictionary where the key is the node-number and the value is a list of whether they are sick \n",
    "#and the amount of connections they had\n",
    "#print(r3[260])\n",
    "\n",
    "print(lst11) # the vaccinated people\n",
    "print(lstwsd_2) #amount of sick people at each time interval"
   ]
  },
  {
   "cell_type": "code",
   "execution_count": 127,
   "metadata": {},
   "outputs": [
    {
     "data": {
      "text/plain": [
       "Text(0, 0.5, 'amount of sick persons')"
      ]
     },
     "execution_count": 127,
     "metadata": {},
     "output_type": "execute_result"
    },
    {
     "data": {
      "image/png": "[encoded data removed]",
      "text/plain": [
       "<Figure size 432x288 with 1 Axes>"
      ]
     },
     "metadata": {
      "needs_background": "light"
     },
     "output_type": "display_data"
    }
   ],
   "source": [
    "#plots of sickness over time intervals\n",
    "import matplotlib.pyplot as plt\n",
    "plt.plot(lstwsd)\n",
    "plt.xlabel('Timeintervals, every 5 minutes')\n",
    "\n",
    "plt.ylabel('amount of sick persons')"
   ]
  },
  {
   "cell_type": "code",
   "execution_count": 128,
   "metadata": {},
   "outputs": [
    {
     "data": {
      "text/plain": [
       "Text(0, 0.5, 'amount of sick persons')"
      ]
     },
     "execution_count": 128,
     "metadata": {},
     "output_type": "execute_result"
    },
    {
     "data": {
      "image/png": "[encoded data removed]",
      "text/plain": [
       "<Figure size 432x288 with 1 Axes>"
      ]
     },
     "metadata": {
      "needs_background": "light"
     },
     "output_type": "display_data"
    }
   ],
   "source": [
    "plt.plot(lstwsd_2)\n",
    "plt.xlabel('Timeintervals, every 5 minutes')\n",
    "\n",
    "plt.ylabel('amount of sick persons')"
   ]
  },
  {
   "cell_type": "markdown",
   "metadata": {},
   "source": [
    "This shows that while the vaccinations were implemented at a later time, it still is worth to wait a bit to vaccinate to see who are the most popular persons. Since this will decrease the total amount of sick persons. Below is the final degree (final amount of connections) each node had over the span of this experiment."
   ]
  },
  {
   "cell_type": "code",
   "execution_count": 129,
   "metadata": {},
   "outputs": [
    {
     "data": {
      "text/plain": [
       "Text(0, 0.5, 'The degree')"
      ]
     },
     "execution_count": 129,
     "metadata": {},
     "output_type": "execute_result"
    },
    {
     "data": {
      "image/png": "[encoded data removed]",
      "text/plain": [
       "<Figure size 432x288 with 1 Axes>"
      ]
     },
     "metadata": {
      "needs_background": "light"
     },
     "output_type": "display_data"
    }
   ],
   "source": [
    "deg_list = []\n",
    "for key in dictio.keys():\n",
    "    deg_list.append(dictio[key][1])\n",
    "    \n",
    "#the degree distribution of the nodes sorted (Without the connections of vaccinated individuals. because they do not matter)\n",
    "#i.e. amount of contacts, thus two people can have a connection at two different time intervals which would count for 2 contacts \n",
    "#and thus 2 degree more for each individual.\n",
    "plt.plot(sorted(deg_list))\n",
    "plt.xlabel('The nodes')\n",
    "\n",
    "plt.ylabel('The degree')"
   ]
  },
  {
   "cell_type": "code",
   "execution_count": null,
   "metadata": {},
   "outputs": [],
   "source": []
  }
 ],
 "metadata": {
  "kernelspec": {
   "display_name": "Python 3",
   "language": "python",
   "name": "python3"
  },
  "language_info": {
   "codemirror_mode": {
    "name": "ipython",
    "version": 3
   },
   "file_extension": ".py",
   "mimetype": "text/x-python",
   "name": "python",
   "nbconvert_exporter": "python",
   "pygments_lexer": "ipython3",
   "version": "3.8.5"
  }
 },
 "nbformat": 4,
 "nbformat_minor": 4
}
